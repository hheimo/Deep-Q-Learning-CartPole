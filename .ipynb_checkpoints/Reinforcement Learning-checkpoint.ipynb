{
 "cells": [
  {
   "cell_type": "markdown",
   "metadata": {},
   "source": [
    "# Deep Q-Learning"
   ]
  },
  {
   "cell_type": "markdown",
   "metadata": {},
   "source": [
    "## 1. Reinforcement Learning\n",
    "Reinforcement learning is kind of machine learning that learns by trial and error."
   ]
  },
  {
   "cell_type": "markdown",
   "metadata": {},
   "source": [
    "## 1.1 Q-learning\n",
    "Q- and V-learning are in the context of Markov Decision Processes. A MDP is a 5-tuple (S,A,P,R,γ):\n",
    "\n",
    "* S is state space\n",
    "* A is action space\n",
    "* P is probability to get from s to s' with a\n",
    "* R is reward from going from s to s' with a\n",
    "* γ is discount factor for reward\n",
    "\n",
    "A policy π is a function π: S -> A\n",
    "\n",
    "Q-function:\n",
    "\n",
    "$Qπ(s,a)=Eπ{Rt|st=s,at=a}=Eπ{∑k=0∞γkrt+k+1|st=s,at=a}$"
   ]
  },
  {
   "cell_type": "code",
   "execution_count": null,
   "metadata": {
    "collapsed": true
   },
   "outputs": [],
   "source": []
  }
 ],
 "metadata": {
  "kernelspec": {
   "display_name": "Python 3",
   "language": "python",
   "name": "python3"
  },
  "language_info": {
   "codemirror_mode": {
    "name": "ipython",
    "version": 3
   },
   "file_extension": ".py",
   "mimetype": "text/x-python",
   "name": "python",
   "nbconvert_exporter": "python",
   "pygments_lexer": "ipython3",
   "version": "3.6.3"
  }
 },
 "nbformat": 4,
 "nbformat_minor": 2
}
